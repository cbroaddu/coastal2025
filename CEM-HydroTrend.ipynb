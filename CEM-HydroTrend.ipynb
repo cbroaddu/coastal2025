{
 "cells": [
  {
   "cell_type": "markdown",
   "id": "b6b95742-cebc-4684-b678-57a2283368bc",
   "metadata": {},
   "source": [
    "# Coupling CEM and HydroTrend to assess links between rivers and coastal morphology\n",
    "In this lab, you will use a coupled Coastal Evolution Model (CEM) and HydroTrend model to study the effects of coastal river drainage discharge on sandy shoreline change through time. \n",
    "* Hydrotrend is a 2D numerical model that operates using a water and sediment budget and delivers a daily sediment output to a river outlet. Read more about it here: https://csdms.colorado.edu/wiki/Model:HydroTrend.\n",
    "* CEM, on the other hand, is a 2D numerical model that addresses wave-driven morphological change undergoing sandy coastal systems. Read more about it here: http://csdms.colorado.edu/wiki/Model_help:CEM   \n",
    "\n",
    "### Parameters of interest\n",
    "Hydrotrend requires inputs of various watershed-specific information including hypsometric, climatic, lithologic, and anthropogonic data.  It creates time-step specific temperature and precipitation scenarios that affect weathering and sediment transport rates across the drainage basin \n",
    "and gives an output of daily sediment loads. For this lab, we have included the past 20 years of climatic data. \n",
    "\n",
    "CEM requires wave-climate data and shoreline position inputs and solves for sediment transport and shoreline morphological change including spit formation and erosion. \n",
    "\n",
    "### Case Study: the effects of the Coquilles River on the southern Oregon coastline\n",
    "The Coquilles River is a ~60-km long river that drains 2,740 $\\text{km}^{2}$ of the Coast range in Oregon. Over the past century, it has experienced intense anthropogenic disturbances including channel dredging, gravel bar mining, and deforestoration. <u>This lab explores the impact of anthropogenic and climate-change disturbances within the watershed on coastline change.</u>  \n",
    "\n",
    "### Links\n",
    "* Link to this notebook: \n",
    "* Package installation commands: \n",
    "* Command to download a local copy: \n",
    "\n",
    "### Key References\n",
    "\n",
    "Ashton, A.D.; Hutton, E.W.H.; Kettner, A.J.; Xing, F.; Kallumadikal, J.; Nienhuis, J.; Giosan, L. Progress in coupling models of coastline and fluvial dynamics. Comput. Geosci. 2013, 53, 21–29.\n",
    "\n",
    "Warrick, J. A., Vos, K., East, A. E. & Vitousek, S. (2022). Fire (plus) flood (equals) beach: coastal response to an exceptional river sediment discharge event. Scientific Reports, 12(1), 3848. https://doi.org/10.1038/s41598-022-07209-0"
   ]
  },
  {
   "cell_type": "markdown",
   "id": "fdd083fb-4fce-4d37-ae35-ad8875f4ec5b",
   "metadata": {},
   "source": [
    "## Visualizing Coquille River watershed elevation\n",
    "First you will import the hypsometry (i.e., elevation distribution). You could visualize your own watershed dynamics using this lab: "
   ]
  },
  {
   "cell_type": "markdown",
   "id": "0f2d3505-e889-45f2-af4b-41fa813d27e7",
   "metadata": {},
   "source": [
    "## Parameterizing Hydrotrend to Coquilles River watershed"
   ]
  },
  {
   "cell_type": "markdown",
   "id": "80c31a49-b27d-48e5-ad43-c9333e5681b7",
   "metadata": {},
   "source": [
    "## Importing CoastSTAT shoreline and wave climates"
   ]
  },
  {
   "cell_type": "markdown",
   "id": "068b32d4-5aa1-4c2b-8a9f-f88f2e9b4823",
   "metadata": {},
   "source": [
    "## Running CEM-Hydrotrend"
   ]
  },
  {
   "cell_type": "markdown",
   "id": "288a030a-12b8-444b-badf-aecbe0f7a585",
   "metadata": {},
   "source": [
    "## How does the coastline change with varying sediment load frequency and magnitude? "
   ]
  },
  {
   "cell_type": "code",
   "execution_count": null,
   "id": "af4524b1-dffa-41cd-8115-ce21aae71629",
   "metadata": {},
   "outputs": [],
   "source": []
  }
 ],
 "metadata": {
  "kernelspec": {
   "display_name": "Python 3 (ipykernel)",
   "language": "python",
   "name": "python3"
  },
  "language_info": {
   "codemirror_mode": {
    "name": "ipython",
    "version": 3
   },
   "file_extension": ".py",
   "mimetype": "text/x-python",
   "name": "python",
   "nbconvert_exporter": "python",
   "pygments_lexer": "ipython3",
   "version": "3.10.10"
  }
 },
 "nbformat": 4,
 "nbformat_minor": 5
}
